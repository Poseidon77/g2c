{
 "cells": [
  {
   "cell_type": "code",
   "execution_count": 2,
   "metadata": {
    "collapsed": false,
    "scrolled": true
   },
   "outputs": [
    {
     "name": "stdout",
     "output_type": "stream",
     "text": [
      "hello there what up\n"
     ]
    }
   ],
   "source": [
    "print \"hello there what up\""
   ]
  },
  {
   "cell_type": "code",
   "execution_count": 3,
   "metadata": {
    "collapsed": true
   },
   "outputs": [],
   "source": [
    "import requests\n",
    "import json"
   ]
  },
  {
   "cell_type": "code",
   "execution_count": 3,
   "metadata": {
    "collapsed": true
   },
   "outputs": [],
   "source": [
    "r = requests.get('https://github.com/timeline.json')"
   ]
  },
  {
   "cell_type": "code",
   "execution_count": 30,
   "metadata": {
    "collapsed": false
   },
   "outputs": [
    {
     "name": "stdout",
     "output_type": "stream",
     "text": [
      "{\"resources\":{\"core\":{\"limit\":60,\"remaining\":0,\"reset\":1520989963},\"search\":{\"limit\":10,\"remaining\":10,\"reset\":1520987750},\"graphql\":{\"limit\":0,\"remaining\":0,\"reset\":1520991290}},\"rate\":{\"limit\":60,\"remaining\":0,\"reset\":1520989963}}\n",
      "{'X-XSS-Protection': '1; mode=block', 'Content-Security-Policy': \"default-src 'none'\", 'Access-Control-Expose-Headers': 'ETag, Link, Retry-After, X-GitHub-OTP, X-RateLimit-Limit, X-RateLimit-Remaining, X-RateLimit-Reset, X-OAuth-Scopes, X-Accepted-OAuth-Scopes, X-Poll-Interval', 'Transfer-Encoding': 'chunked', 'Access-Control-Allow-Origin': '*', 'X-Frame-Options': 'deny', 'Status': '200 OK', 'X-GitHub-Request-Id': 'DC76:2E7EA:1B93CB:2221A4:5AA86E29', 'Date': 'Wed, 14 Mar 2018 00:34:50 GMT', 'X-RateLimit-Remaining': '0', 'Strict-Transport-Security': 'max-age=31536000; includeSubdomains; preload', 'Server': 'GitHub.com', 'X-GitHub-Media-Type': 'github.v3; format=json', 'X-Content-Type-Options': 'nosniff', 'Content-Encoding': 'gzip', 'X-Runtime-rack': '0.012560', 'Vary': 'Accept-Encoding', 'X-RateLimit-Limit': '60', 'Cache-Control': 'no-cache', 'Referrer-Policy': 'origin-when-cross-origin, strict-origin-when-cross-origin', 'Content-Type': 'application/json; charset=utf-8', 'X-RateLimit-Reset': '1520989963'}\n"
     ]
    }
   ],
   "source": [
    "r = requests.get('https://api.github.com/rate_limit')\n",
    "print r.text\n",
    "print r.headers"
   ]
  },
  {
   "cell_type": "code",
   "execution_count": 4,
   "metadata": {
    "collapsed": false
   },
   "outputs": [
    {
     "data": {
      "text/plain": [
       "u'{\"message\":\"Hello there, wayfaring stranger. If you\\u2019re reading this then you probably didn\\u2019t see our blog post a couple of years back announcing that this API would go away: http://git.io/17AROg Fear not, you should be able to get what you need from the shiny new Events API instead.\",\"documentation_url\":\"https://developer.github.com/v3/activity/events/#list-public-events\"}'"
      ]
     },
     "execution_count": 4,
     "metadata": {},
     "output_type": "execute_result"
    }
   ],
   "source": [
    "r.text"
   ]
  },
  {
   "cell_type": "code",
   "execution_count": 10,
   "metadata": {
    "collapsed": false
   },
   "outputs": [
    {
     "name": "stdout",
     "output_type": "stream",
     "text": [
      "200\n",
      "[\n",
      "    {\n",
      "        \"name\": \"folder-one\", \n",
      "        \"url\": \"https://api.github.com/repos/Poseidon77/config-tests/contents/configs/folder-one?ref=master\", \n",
      "        \"html_url\": \"https://github.com/Poseidon77/config-tests/tree/master/configs/folder-one\", \n",
      "        \"download_url\": null, \n",
      "        \"sha\": \"99d2327fb1044a1941e2609a386a4c3abba00a63\", \n",
      "        \"_links\": {\n",
      "            \"self\": \"https://api.github.com/repos/Poseidon77/config-tests/contents/configs/folder-one?ref=master\", \n",
      "            \"git\": \"https://api.github.com/repos/Poseidon77/config-tests/git/trees/99d2327fb1044a1941e2609a386a4c3abba00a63\", \n",
      "            \"html\": \"https://github.com/Poseidon77/config-tests/tree/master/configs/folder-one\"\n",
      "        }, \n",
      "        \"git_url\": \"https://api.github.com/repos/Poseidon77/config-tests/git/trees/99d2327fb1044a1941e2609a386a4c3abba00a63\", \n",
      "        \"path\": \"configs/folder-one\", \n",
      "        \"type\": \"dir\", \n",
      "        \"size\": 0\n",
      "    }, \n",
      "    {\n",
      "        \"name\": \"folder-two\", \n",
      "        \"url\": \"https://api.github.com/repos/Poseidon77/config-tests/contents/configs/folder-two?ref=master\", \n",
      "        \"html_url\": \"https://github.com/Poseidon77/config-tests/tree/master/configs/folder-two\", \n",
      "        \"download_url\": null, \n",
      "        \"sha\": \"b6ec18bd9016626384fb062a2b5ac0e5000d5908\", \n",
      "        \"_links\": {\n",
      "            \"self\": \"https://api.github.com/repos/Poseidon77/config-tests/contents/configs/folder-two?ref=master\", \n",
      "            \"git\": \"https://api.github.com/repos/Poseidon77/config-tests/git/trees/b6ec18bd9016626384fb062a2b5ac0e5000d5908\", \n",
      "            \"html\": \"https://github.com/Poseidon77/config-tests/tree/master/configs/folder-two\"\n",
      "        }, \n",
      "        \"git_url\": \"https://api.github.com/repos/Poseidon77/config-tests/git/trees/b6ec18bd9016626384fb062a2b5ac0e5000d5908\", \n",
      "        \"path\": \"configs/folder-two\", \n",
      "        \"type\": \"dir\", \n",
      "        \"size\": 0\n",
      "    }, \n",
      "    {\n",
      "        \"name\": \"top.level.config\", \n",
      "        \"url\": \"https://api.github.com/repos/Poseidon77/config-tests/contents/configs/top.level.config?ref=master\", \n",
      "        \"html_url\": \"https://github.com/Poseidon77/config-tests/blob/master/configs/top.level.config\", \n",
      "        \"download_url\": \"https://raw.githubusercontent.com/Poseidon77/config-tests/master/configs/top.level.config\", \n",
      "        \"sha\": \"1aad27d4c8f451ca6b99171c47acfe86724bf6df\", \n",
      "        \"_links\": {\n",
      "            \"self\": \"https://api.github.com/repos/Poseidon77/config-tests/contents/configs/top.level.config?ref=master\", \n",
      "            \"git\": \"https://api.github.com/repos/Poseidon77/config-tests/git/blobs/1aad27d4c8f451ca6b99171c47acfe86724bf6df\", \n",
      "            \"html\": \"https://github.com/Poseidon77/config-tests/blob/master/configs/top.level.config\"\n",
      "        }, \n",
      "        \"git_url\": \"https://api.github.com/repos/Poseidon77/config-tests/git/blobs/1aad27d4c8f451ca6b99171c47acfe86724bf6df\", \n",
      "        \"path\": \"configs/top.level.config\", \n",
      "        \"type\": \"file\", \n",
      "        \"size\": 13\n",
      "    }\n",
      "]\n",
      "dir\n",
      "dir\n",
      "file\n"
     ]
    }
   ],
   "source": [
    "contents_url_base = 'https://api.github.com/repos/Poseidon77/config-tests/contents/configs'\n",
    "r_contents = requests.get(contents_url_base)\n",
    "\n",
    "print r_contents.status_code\n",
    "print json.dumps(r_contents.json(), indent=4)\n",
    "content_data = r_contents.json()\n",
    "\n",
    "# for each entry in our contents\n",
    "### check if it's a file or directory\n",
    "### if it's a file, PUT into Consul\n",
    "### if it's a directory, go one layer deeper into the directory, and repeat this recursively\n",
    "\n",
    "for entry in content_data:\n",
    "    entry_type = entry['type']\n",
    "    print entry_type\n",
    "    #if entry_type = 'dir'\n",
    "\n",
    "#new_contents_url = contents_url_base + "
   ]
  },
  {
   "cell_type": "code",
   "execution_count": 37,
   "metadata": {
    "collapsed": false
   },
   "outputs": [
    {
     "name": "stdout",
     "output_type": "stream",
     "text": [
      "looking at the url of https://api.github.com/repos/Poseidon77/config-tests/contents/configs?ref=0236d6f59c145f3b89bd2d4b15f13821f4aae910\n",
      "\n",
      "[{u'name': u'folder-one', u'url': u'https://api.github.com/repos/Poseidon77/config-tests/contents/configs/folder-one?ref=0236d6f59c145f3b89bd2d4b15f13821f4aae910', u'html_url': u'https://github.com/Poseidon77/config-tests/tree/0236d6f59c145f3b89bd2d4b15f13821f4aae910/configs/folder-one', u'download_url': None, u'sha': u'23f0678251c3ff4794d74431ff8b7b8d9e0a4cd9', u'_links': {u'self': u'https://api.github.com/repos/Poseidon77/config-tests/contents/configs/folder-one?ref=0236d6f59c145f3b89bd2d4b15f13821f4aae910', u'git': u'https://api.github.com/repos/Poseidon77/config-tests/git/trees/23f0678251c3ff4794d74431ff8b7b8d9e0a4cd9', u'html': u'https://github.com/Poseidon77/config-tests/tree/0236d6f59c145f3b89bd2d4b15f13821f4aae910/configs/folder-one'}, u'git_url': u'https://api.github.com/repos/Poseidon77/config-tests/git/trees/23f0678251c3ff4794d74431ff8b7b8d9e0a4cd9', u'path': u'configs/folder-one', u'type': u'dir', u'size': 0}, {u'name': u'top.level.config', u'url': u'https://api.github.com/repos/Poseidon77/config-tests/contents/configs/top.level.config?ref=0236d6f59c145f3b89bd2d4b15f13821f4aae910', u'html_url': u'https://github.com/Poseidon77/config-tests/blob/0236d6f59c145f3b89bd2d4b15f13821f4aae910/configs/top.level.config', u'download_url': u'https://raw.githubusercontent.com/Poseidon77/config-tests/0236d6f59c145f3b89bd2d4b15f13821f4aae910/configs/top.level.config', u'sha': u'1aad27d4c8f451ca6b99171c47acfe86724bf6df', u'_links': {u'self': u'https://api.github.com/repos/Poseidon77/config-tests/contents/configs/top.level.config?ref=0236d6f59c145f3b89bd2d4b15f13821f4aae910', u'git': u'https://api.github.com/repos/Poseidon77/config-tests/git/blobs/1aad27d4c8f451ca6b99171c47acfe86724bf6df', u'html': u'https://github.com/Poseidon77/config-tests/blob/0236d6f59c145f3b89bd2d4b15f13821f4aae910/configs/top.level.config'}, u'git_url': u'https://api.github.com/repos/Poseidon77/config-tests/git/blobs/1aad27d4c8f451ca6b99171c47acfe86724bf6df', u'path': u'configs/top.level.config', u'type': u'file', u'size': 13}]\n",
      "dir\n",
      "23f0678251c3ff4794d74431ff8b7b8d9e0a4cd9\n",
      " ############  directory found ############ \n",
      "new url to dig into: https://api.github.com/repos/Poseidon77/config-tests/contents/configs/folder-one\n",
      "looking at the url of https://api.github.com/repos/Poseidon77/config-tests/contents/configs/folder-one?ref=0236d6f59c145f3b89bd2d4b15f13821f4aae910\n",
      "\n",
      "[{u'name': u'test.key.one', u'url': u'https://api.github.com/repos/Poseidon77/config-tests/contents/configs/folder-one/test.key.one?ref=0236d6f59c145f3b89bd2d4b15f13821f4aae910', u'html_url': u'https://github.com/Poseidon77/config-tests/blob/0236d6f59c145f3b89bd2d4b15f13821f4aae910/configs/folder-one/test.key.one', u'download_url': u'https://raw.githubusercontent.com/Poseidon77/config-tests/0236d6f59c145f3b89bd2d4b15f13821f4aae910/configs/folder-one/test.key.one', u'sha': u'ae5b7b9f99a73a09d90d870d0dd544f21a67e344', u'_links': {u'self': u'https://api.github.com/repos/Poseidon77/config-tests/contents/configs/folder-one/test.key.one?ref=0236d6f59c145f3b89bd2d4b15f13821f4aae910', u'git': u'https://api.github.com/repos/Poseidon77/config-tests/git/blobs/ae5b7b9f99a73a09d90d870d0dd544f21a67e344', u'html': u'https://github.com/Poseidon77/config-tests/blob/0236d6f59c145f3b89bd2d4b15f13821f4aae910/configs/folder-one/test.key.one'}, u'git_url': u'https://api.github.com/repos/Poseidon77/config-tests/git/blobs/ae5b7b9f99a73a09d90d870d0dd544f21a67e344', u'path': u'configs/folder-one/test.key.one', u'type': u'file', u'size': 42}, {u'name': u'test.key.two', u'url': u'https://api.github.com/repos/Poseidon77/config-tests/contents/configs/folder-one/test.key.two?ref=0236d6f59c145f3b89bd2d4b15f13821f4aae910', u'html_url': u'https://github.com/Poseidon77/config-tests/blob/0236d6f59c145f3b89bd2d4b15f13821f4aae910/configs/folder-one/test.key.two', u'download_url': u'https://raw.githubusercontent.com/Poseidon77/config-tests/0236d6f59c145f3b89bd2d4b15f13821f4aae910/configs/folder-one/test.key.two', u'sha': u'c3cfd95712e7c4c04e6a9af5443810e5c8a1a564', u'_links': {u'self': u'https://api.github.com/repos/Poseidon77/config-tests/contents/configs/folder-one/test.key.two?ref=0236d6f59c145f3b89bd2d4b15f13821f4aae910', u'git': u'https://api.github.com/repos/Poseidon77/config-tests/git/blobs/c3cfd95712e7c4c04e6a9af5443810e5c8a1a564', u'html': u'https://github.com/Poseidon77/config-tests/blob/0236d6f59c145f3b89bd2d4b15f13821f4aae910/configs/folder-one/test.key.two'}, u'git_url': u'https://api.github.com/repos/Poseidon77/config-tests/git/blobs/c3cfd95712e7c4c04e6a9af5443810e5c8a1a564', u'path': u'configs/folder-one/test.key.two', u'type': u'file', u'size': 28}]\n",
      "file\n",
      "ae5b7b9f99a73a09d90d870d0dd544f21a67e344\n",
      " ############  file found ############ \n",
      "[u'test.key.one', u'https://raw.githubusercontent.com/Poseidon77/config-tests/0236d6f59c145f3b89bd2d4b15f13821f4aae910/configs/folder-one/test.key.one', u'https://api.github.com/repos/Poseidon77/config-tests/contents/configs/folder-one']\n",
      "file\n",
      "c3cfd95712e7c4c04e6a9af5443810e5c8a1a564\n",
      " ############  file found ############ \n",
      "[u'test.key.two', u'https://raw.githubusercontent.com/Poseidon77/config-tests/0236d6f59c145f3b89bd2d4b15f13821f4aae910/configs/folder-one/test.key.two', u'https://api.github.com/repos/Poseidon77/config-tests/contents/configs/folder-one']\n",
      "starter list is: [[u'test.key.one', u'https://raw.githubusercontent.com/Poseidon77/config-tests/0236d6f59c145f3b89bd2d4b15f13821f4aae910/configs/folder-one/test.key.one', u'https://api.github.com/repos/Poseidon77/config-tests/contents/configs/folder-one'], [u'test.key.two', u'https://raw.githubusercontent.com/Poseidon77/config-tests/0236d6f59c145f3b89bd2d4b15f13821f4aae910/configs/folder-one/test.key.two', u'https://api.github.com/repos/Poseidon77/config-tests/contents/configs/folder-one']]\n",
      "file\n",
      "1aad27d4c8f451ca6b99171c47acfe86724bf6df\n",
      " ############  file found ############ \n",
      "[u'top.level.config', u'https://raw.githubusercontent.com/Poseidon77/config-tests/0236d6f59c145f3b89bd2d4b15f13821f4aae910/configs/top.level.config', 'https://api.github.com/repos/Poseidon77/config-tests/contents/configs']\n",
      "starter list is: [[u'top.level.config', u'https://raw.githubusercontent.com/Poseidon77/config-tests/0236d6f59c145f3b89bd2d4b15f13821f4aae910/configs/top.level.config', 'https://api.github.com/repos/Poseidon77/config-tests/contents/configs']]\n"
     ]
    }
   ],
   "source": [
    "def append_reference_commit_to_api_endpoint(base_url_with_no_ending_slash, reference_commit):\n",
    "    return base_url_with_no_ending_slash + '?ref=' + reference_commit\n",
    "\n",
    "\n",
    "# start of the recursive function\n",
    "# take in a URL\n",
    "# hit that URL\n",
    "# if response is a file put the original URL, the file name, and download_url into a list\n",
    "# if response is a directory, call function again with the html_url of the object being inspected\n",
    "    \n",
    "def recursive_func(url_base, reference_commit):\n",
    "    \n",
    "    starter_list = []\n",
    "    \n",
    "    url_to_examine = append_reference_commit_to_api_endpoint(url_base, reference_commit)\n",
    "    print 'looking at the url of ' + url_to_examine + '\\n'\n",
    "    \n",
    "    r_contents = requests.get(url_to_examine)\n",
    "    content_data = r_contents.json()\n",
    "    \n",
    "    print content_data\n",
    "    \n",
    "    for entry in content_data:\n",
    "        entry_type = entry['type']\n",
    "        print entry_type\n",
    "        print entry['sha']\n",
    "        if entry_type == 'file':\n",
    "            print ' ############  file found ############ '\n",
    "            items_of_interest = [entry['name'], entry['download_url'], url_base]\n",
    "            starter_list.append(items_of_interest)\n",
    "            print items_of_interest\n",
    "        elif entry_type == 'dir':\n",
    "            print ' ############  directory found ############ '\n",
    "            new_url_base_to_dig_into = url_base + '/' + entry['name']\n",
    "            print 'new url to dig into: ' + new_url_base_to_dig_into\n",
    "            recursive_func(new_url_base_to_dig_into, reference_commit)\n",
    "        else:\n",
    "            print 'unexpected entry type!'\n",
    "    print 'starter list is: ' + str(starter_list)\n",
    "\n",
    "\n",
    "    \n",
    "commit_to_refer_to = '0236d6f59c145f3b89bd2d4b15f13821f4aae910'\n",
    "api_starting_point ='https://api.github.com/repos/Poseidon77/config-tests/contents/configs'\n",
    "recursive_func(api_starting_point, commit_to_refer_to)"
   ]
  },
  {
   "cell_type": "code",
   "execution_count": 66,
   "metadata": {
    "collapsed": false
   },
   "outputs": [
    {
     "name": "stdout",
     "output_type": "stream",
     "text": [
      "404\n",
      "{\n",
      "    \"documentation_url\": \"https://developer.github.com/v3\", \n",
      "    \"message\": \"Not Found\"\n",
      "}\n"
     ]
    }
   ],
   "source": [
    "#/repos/Poseidon77/config-tests/git/trees/:sha\n",
    "trees_url = 'https://api.github.com/repos/Poseidon77/config-tests/git/trees'\n",
    "r_trees = requests.get(trees_url)\n",
    "\n",
    "print r_trees.status_code\n",
    "print json.dumps(r_trees.json(), indent=4)"
   ]
  },
  {
   "cell_type": "code",
   "execution_count": 62,
   "metadata": {
    "collapsed": false
   },
   "outputs": [
    {
     "name": "stdout",
     "output_type": "stream",
     "text": [
      "200\n",
      "[\n",
      "    {\n",
      "        \"committer\": {\n",
      "            \"following_url\": \"https://api.github.com/users/web-flow/following{/other_user}\", \n",
      "            \"events_url\": \"https://api.github.com/users/web-flow/events{/privacy}\", \n",
      "            \"organizations_url\": \"https://api.github.com/users/web-flow/orgs\", \n",
      "            \"url\": \"https://api.github.com/users/web-flow\", \n",
      "            \"gists_url\": \"https://api.github.com/users/web-flow/gists{/gist_id}\", \n",
      "            \"html_url\": \"https://github.com/web-flow\", \n",
      "            \"subscriptions_url\": \"https://api.github.com/users/web-flow/subscriptions\", \n",
      "            \"avatar_url\": \"https://avatars3.githubusercontent.com/u/19864447?v=4\", \n",
      "            \"repos_url\": \"https://api.github.com/users/web-flow/repos\", \n",
      "            \"received_events_url\": \"https://api.github.com/users/web-flow/received_events\", \n",
      "            \"gravatar_id\": \"\", \n",
      "            \"starred_url\": \"https://api.github.com/users/web-flow/starred{/owner}{/repo}\", \n",
      "            \"site_admin\": false, \n",
      "            \"login\": \"web-flow\", \n",
      "            \"type\": \"User\", \n",
      "            \"id\": 19864447, \n",
      "            \"followers_url\": \"https://api.github.com/users/web-flow/followers\"\n",
      "        }, \n",
      "        \"author\": {\n",
      "            \"following_url\": \"https://api.github.com/users/Poseidon77/following{/other_user}\", \n",
      "            \"events_url\": \"https://api.github.com/users/Poseidon77/events{/privacy}\", \n",
      "            \"organizations_url\": \"https://api.github.com/users/Poseidon77/orgs\", \n",
      "            \"url\": \"https://api.github.com/users/Poseidon77\", \n",
      "            \"gists_url\": \"https://api.github.com/users/Poseidon77/gists{/gist_id}\", \n",
      "            \"html_url\": \"https://github.com/Poseidon77\", \n",
      "            \"subscriptions_url\": \"https://api.github.com/users/Poseidon77/subscriptions\", \n",
      "            \"avatar_url\": \"https://avatars1.githubusercontent.com/u/12437306?v=4\", \n",
      "            \"repos_url\": \"https://api.github.com/users/Poseidon77/repos\", \n",
      "            \"received_events_url\": \"https://api.github.com/users/Poseidon77/received_events\", \n",
      "            \"gravatar_id\": \"\", \n",
      "            \"starred_url\": \"https://api.github.com/users/Poseidon77/starred{/owner}{/repo}\", \n",
      "            \"site_admin\": false, \n",
      "            \"login\": \"Poseidon77\", \n",
      "            \"type\": \"User\", \n",
      "            \"id\": 12437306, \n",
      "            \"followers_url\": \"https://api.github.com/users/Poseidon77/followers\"\n",
      "        }, \n",
      "        \"url\": \"https://api.github.com/repos/Poseidon77/config-tests/commits/a4d364228ebe60c0af0d51d37eba952a3cbcc947\", \n",
      "        \"comments_url\": \"https://api.github.com/repos/Poseidon77/config-tests/commits/a4d364228ebe60c0af0d51d37eba952a3cbcc947/comments\", \n",
      "        \"html_url\": \"https://github.com/Poseidon77/config-tests/commit/a4d364228ebe60c0af0d51d37eba952a3cbcc947\", \n",
      "        \"sha\": \"a4d364228ebe60c0af0d51d37eba952a3cbcc947\", \n",
      "        \"parents\": [\n",
      "            {\n",
      "                \"url\": \"https://api.github.com/repos/Poseidon77/config-tests/commits/e8dbd71f3ca7f2cf77fdfe4a981b9f392f4bbc14\", \n",
      "                \"sha\": \"e8dbd71f3ca7f2cf77fdfe4a981b9f392f4bbc14\", \n",
      "                \"html_url\": \"https://github.com/Poseidon77/config-tests/commit/e8dbd71f3ca7f2cf77fdfe4a981b9f392f4bbc14\"\n",
      "            }\n",
      "        ], \n",
      "        \"commit\": {\n",
      "            \"committer\": {\n",
      "                \"date\": \"2018-03-13T02:11:26Z\", \n",
      "                \"name\": \"GitHub\", \n",
      "                \"email\": \"noreply@github.com\"\n",
      "            }, \n",
      "            \"author\": {\n",
      "                \"date\": \"2018-03-13T02:11:26Z\", \n",
      "                \"name\": \"Poseidon77\", \n",
      "                \"email\": \"poseidon77@users.noreply.github.com\"\n",
      "            }, \n",
      "            \"url\": \"https://api.github.com/repos/Poseidon77/config-tests/git/commits/a4d364228ebe60c0af0d51d37eba952a3cbcc947\", \n",
      "            \"tree\": {\n",
      "                \"url\": \"https://api.github.com/repos/Poseidon77/config-tests/git/trees/a1c30deecabcb9d1983c78d72f1b4fcd4e164c6b\", \n",
      "                \"sha\": \"a1c30deecabcb9d1983c78d72f1b4fcd4e164c6b\"\n",
      "            }, \n",
      "            \"comment_count\": 0, \n",
      "            \"verification\": {\n",
      "                \"reason\": \"valid\", \n",
      "                \"verified\": true, \n",
      "                \"payload\": \"tree a1c30deecabcb9d1983c78d72f1b4fcd4e164c6b\\nparent e8dbd71f3ca7f2cf77fdfe4a981b9f392f4bbc14\\nauthor Poseidon77 <Poseidon77@users.noreply.github.com> 1520907086 -0400\\ncommitter GitHub <noreply@github.com> 1520907086 -0400\\n\\nCreate text.test.l\", \n",
      "                \"signature\": \"-----BEGIN PGP SIGNATURE-----\\n\\nwsBcBAABCAAQBQJapzNOCRBK7hj4Ov3rIwAAdHIIADCKhB7UCLZ4rZ1DOqMEmNS0\\nTd9Q9YoUMmsXSQH1qmjfyGS1NuV52ZUOm9BbKfAumQDiPvas4iTlgajtO6bIrn5X\\nL52fJoHMJ+Sg+cN33VxCHAH0q7J38tQDaHenSOY8G6dfIYpwmGwKShYKKoIvqrCG\\nhKsuH746zTi5am+9IVf2orNLYbUP80DB9CxkuQJEw3/ODTeuoUfUj7ums6elAX9J\\nLKDHCwRdtXH9A+VFloFrpk/Vo7pmHf6kOQawfGLAUOGklsyPtwZRmLDFZyhgNqkL\\nm11uxyU8NfXZ4H7HYczZp37EjnLxMUAGSrNvtd5kIhA6KuVp6S7+MudMEY1JxZM=\\n=srjq\\n-----END PGP SIGNATURE-----\\n\"\n",
      "            }, \n",
      "            \"message\": \"Create text.test.l\"\n",
      "        }\n",
      "    }\n",
      "]\n",
      "------------------------------------------------------\n",
      "[u'committer', u'author', u'url', u'comments_url', u'html_url', u'sha', u'parents', u'commit']\n",
      "------------------------------------------------------\n",
      "{u'committer': {u'following_url': u'https://api.github.com/users/web-flow/following{/other_user}', u'events_url': u'https://api.github.com/users/web-flow/events{/privacy}', u'organizations_url': u'https://api.github.com/users/web-flow/orgs', u'url': u'https://api.github.com/users/web-flow', u'gists_url': u'https://api.github.com/users/web-flow/gists{/gist_id}', u'html_url': u'https://github.com/web-flow', u'subscriptions_url': u'https://api.github.com/users/web-flow/subscriptions', u'avatar_url': u'https://avatars3.githubusercontent.com/u/19864447?v=4', u'repos_url': u'https://api.github.com/users/web-flow/repos', u'received_events_url': u'https://api.github.com/users/web-flow/received_events', u'gravatar_id': u'', u'starred_url': u'https://api.github.com/users/web-flow/starred{/owner}{/repo}', u'site_admin': False, u'login': u'web-flow', u'type': u'User', u'id': 19864447, u'followers_url': u'https://api.github.com/users/web-flow/followers'}, u'author': {u'following_url': u'https://api.github.com/users/Poseidon77/following{/other_user}', u'events_url': u'https://api.github.com/users/Poseidon77/events{/privacy}', u'organizations_url': u'https://api.github.com/users/Poseidon77/orgs', u'url': u'https://api.github.com/users/Poseidon77', u'gists_url': u'https://api.github.com/users/Poseidon77/gists{/gist_id}', u'html_url': u'https://github.com/Poseidon77', u'subscriptions_url': u'https://api.github.com/users/Poseidon77/subscriptions', u'avatar_url': u'https://avatars1.githubusercontent.com/u/12437306?v=4', u'repos_url': u'https://api.github.com/users/Poseidon77/repos', u'received_events_url': u'https://api.github.com/users/Poseidon77/received_events', u'gravatar_id': u'', u'starred_url': u'https://api.github.com/users/Poseidon77/starred{/owner}{/repo}', u'site_admin': False, u'login': u'Poseidon77', u'type': u'User', u'id': 12437306, u'followers_url': u'https://api.github.com/users/Poseidon77/followers'}, u'url': u'https://api.github.com/repos/Poseidon77/config-tests/commits/a4d364228ebe60c0af0d51d37eba952a3cbcc947', u'comments_url': u'https://api.github.com/repos/Poseidon77/config-tests/commits/a4d364228ebe60c0af0d51d37eba952a3cbcc947/comments', u'html_url': u'https://github.com/Poseidon77/config-tests/commit/a4d364228ebe60c0af0d51d37eba952a3cbcc947', u'sha': u'a4d364228ebe60c0af0d51d37eba952a3cbcc947', u'parents': [{u'url': u'https://api.github.com/repos/Poseidon77/config-tests/commits/e8dbd71f3ca7f2cf77fdfe4a981b9f392f4bbc14', u'sha': u'e8dbd71f3ca7f2cf77fdfe4a981b9f392f4bbc14', u'html_url': u'https://github.com/Poseidon77/config-tests/commit/e8dbd71f3ca7f2cf77fdfe4a981b9f392f4bbc14'}], u'commit': {u'committer': {u'date': u'2018-03-13T02:11:26Z', u'name': u'GitHub', u'email': u'noreply@github.com'}, u'author': {u'date': u'2018-03-13T02:11:26Z', u'name': u'Poseidon77', u'email': u'poseidon77@users.noreply.github.com'}, u'url': u'https://api.github.com/repos/Poseidon77/config-tests/git/commits/a4d364228ebe60c0af0d51d37eba952a3cbcc947', u'tree': {u'url': u'https://api.github.com/repos/Poseidon77/config-tests/git/trees/a1c30deecabcb9d1983c78d72f1b4fcd4e164c6b', u'sha': u'a1c30deecabcb9d1983c78d72f1b4fcd4e164c6b'}, u'comment_count': 0, u'verification': {u'reason': u'valid', u'verified': True, u'payload': u'tree a1c30deecabcb9d1983c78d72f1b4fcd4e164c6b\\nparent e8dbd71f3ca7f2cf77fdfe4a981b9f392f4bbc14\\nauthor Poseidon77 <Poseidon77@users.noreply.github.com> 1520907086 -0400\\ncommitter GitHub <noreply@github.com> 1520907086 -0400\\n\\nCreate text.test.l', u'signature': u'-----BEGIN PGP SIGNATURE-----\\n\\nwsBcBAABCAAQBQJapzNOCRBK7hj4Ov3rIwAAdHIIADCKhB7UCLZ4rZ1DOqMEmNS0\\nTd9Q9YoUMmsXSQH1qmjfyGS1NuV52ZUOm9BbKfAumQDiPvas4iTlgajtO6bIrn5X\\nL52fJoHMJ+Sg+cN33VxCHAH0q7J38tQDaHenSOY8G6dfIYpwmGwKShYKKoIvqrCG\\nhKsuH746zTi5am+9IVf2orNLYbUP80DB9CxkuQJEw3/ODTeuoUfUj7ums6elAX9J\\nLKDHCwRdtXH9A+VFloFrpk/Vo7pmHf6kOQawfGLAUOGklsyPtwZRmLDFZyhgNqkL\\nm11uxyU8NfXZ4H7HYczZp37EjnLxMUAGSrNvtd5kIhA6KuVp6S7+MudMEY1JxZM=\\n=srjq\\n-----END PGP SIGNATURE-----\\n'}, u'message': u'Create text.test.l'}}\n",
      "------------------------------------------------------\n",
      "{u'following_url': u'https://api.github.com/users/web-flow/following{/other_user}', u'events_url': u'https://api.github.com/users/web-flow/events{/privacy}', u'organizations_url': u'https://api.github.com/users/web-flow/orgs', u'url': u'https://api.github.com/users/web-flow', u'gists_url': u'https://api.github.com/users/web-flow/gists{/gist_id}', u'html_url': u'https://github.com/web-flow', u'subscriptions_url': u'https://api.github.com/users/web-flow/subscriptions', u'avatar_url': u'https://avatars3.githubusercontent.com/u/19864447?v=4', u'repos_url': u'https://api.github.com/users/web-flow/repos', u'received_events_url': u'https://api.github.com/users/web-flow/received_events', u'gravatar_id': u'', u'starred_url': u'https://api.github.com/users/web-flow/starred{/owner}{/repo}', u'site_admin': False, u'login': u'web-flow', u'type': u'User', u'id': 19864447, u'followers_url': u'https://api.github.com/users/web-flow/followers'}\n",
      "data has a length of: 1\n"
     ]
    }
   ],
   "source": [
    "\n",
    "# the page=1 and per_page=1 returns to us only the most recent commit\n",
    "url2 = 'https://api.github.com/repos/Poseidon77/config-tests/commits?page=1&per_page=1'\n",
    "#url = 'https://api.github.com/repos/willg29'\n",
    "url = 'https://api.github.com/repos/doitcwd-nwhack/sailsweb/commits/731f1a20993f474ab496c4ec506ae63030d1aa41'\n",
    "\n",
    "r = requests.get(url2)\n",
    "\n",
    "print r.status_code\n",
    "print json.dumps(r.json(), indent=4)\n",
    "data = r.json()\n",
    "#print type(data[0][\"commiter\"])\n",
    "print ('------------------------------------------------------')\n",
    "print (data[0].keys())\n",
    "print ('------------------------------------------------------')\n",
    "print (data[0])\n",
    "print ('------------------------------------------------------')\n",
    "print (data[0]['committer'])\n",
    "print \"data has a length of: \" + str(len(data))"
   ]
  },
  {
   "cell_type": "code",
   "execution_count": 8,
   "metadata": {
    "collapsed": false
   },
   "outputs": [
    {
     "data": {
      "text/plain": [
       "u'{\"message\":\"Not Found\",\"documentation_url\":\"https://developer.github.com/v3\"}'"
      ]
     },
     "execution_count": 8,
     "metadata": {},
     "output_type": "execute_result"
    }
   ],
   "source": []
  },
  {
   "cell_type": "code",
   "execution_count": null,
   "metadata": {
    "collapsed": true
   },
   "outputs": [],
   "source": []
  }
 ],
 "metadata": {
  "kernelspec": {
   "display_name": "Python 2",
   "language": "python",
   "name": "python2"
  },
  "language_info": {
   "codemirror_mode": {
    "name": "ipython",
    "version": 2
   },
   "file_extension": ".py",
   "mimetype": "text/x-python",
   "name": "python",
   "nbconvert_exporter": "python",
   "pygments_lexer": "ipython2",
   "version": "2.7.11"
  }
 },
 "nbformat": 4,
 "nbformat_minor": 0
}
