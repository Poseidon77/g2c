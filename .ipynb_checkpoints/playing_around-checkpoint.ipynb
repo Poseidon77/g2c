{
 "cells": [
  {
   "cell_type": "code",
   "execution_count": 2,
   "metadata": {
    "collapsed": false,
    "scrolled": true
   },
   "outputs": [
    {
     "name": "stdout",
     "output_type": "stream",
     "text": [
      "hello there what up\n"
     ]
    }
   ],
   "source": [
    "print \"hello there what up\""
   ]
  },
  {
   "cell_type": "code",
   "execution_count": 3,
   "metadata": {
    "collapsed": true
   },
   "outputs": [],
   "source": [
    "import requests\n",
    "import json"
   ]
  },
  {
   "cell_type": "code",
   "execution_count": 3,
   "metadata": {
    "collapsed": true
   },
   "outputs": [],
   "source": [
    "r = requests.get('https://github.com/timeline.json')"
   ]
  },
  {
   "cell_type": "code",
   "execution_count": 4,
   "metadata": {
    "collapsed": false
   },
   "outputs": [
    {
     "data": {
      "text/plain": [
       "u'{\"message\":\"Hello there, wayfaring stranger. If you\\u2019re reading this then you probably didn\\u2019t see our blog post a couple of years back announcing that this API would go away: http://git.io/17AROg Fear not, you should be able to get what you need from the shiny new Events API instead.\",\"documentation_url\":\"https://developer.github.com/v3/activity/events/#list-public-events\"}'"
      ]
     },
     "execution_count": 4,
     "metadata": {},
     "output_type": "execute_result"
    }
   ],
   "source": [
    "r.text"
   ]
  },
  {
   "cell_type": "code",
   "execution_count": 69,
   "metadata": {
    "collapsed": false
   },
   "outputs": [
    {
     "name": "stdout",
     "output_type": "stream",
     "text": [
      "200\n",
      "[\n",
      "    {\n",
      "        \"name\": \"README.md\", \n",
      "        \"url\": \"https://api.github.com/repos/Poseidon77/config-tests/contents/README.md?ref=master\", \n",
      "        \"html_url\": \"https://github.com/Poseidon77/config-tests/blob/master/README.md\", \n",
      "        \"download_url\": \"https://raw.githubusercontent.com/Poseidon77/config-tests/master/README.md\", \n",
      "        \"sha\": \"63576da5a1aea98328784481b040a941da7e88b2\", \n",
      "        \"_links\": {\n",
      "            \"self\": \"https://api.github.com/repos/Poseidon77/config-tests/contents/README.md?ref=master\", \n",
      "            \"git\": \"https://api.github.com/repos/Poseidon77/config-tests/git/blobs/63576da5a1aea98328784481b040a941da7e88b2\", \n",
      "            \"html\": \"https://github.com/Poseidon77/config-tests/blob/master/README.md\"\n",
      "        }, \n",
      "        \"git_url\": \"https://api.github.com/repos/Poseidon77/config-tests/git/blobs/63576da5a1aea98328784481b040a941da7e88b2\", \n",
      "        \"path\": \"README.md\", \n",
      "        \"type\": \"file\", \n",
      "        \"size\": 14\n",
      "    }, \n",
      "    {\n",
      "        \"name\": \"configs\", \n",
      "        \"url\": \"https://api.github.com/repos/Poseidon77/config-tests/contents/configs?ref=master\", \n",
      "        \"html_url\": \"https://github.com/Poseidon77/config-tests/tree/master/configs\", \n",
      "        \"download_url\": null, \n",
      "        \"sha\": \"9d0b42131d083037ab4771cf729d84f61d1f0442\", \n",
      "        \"_links\": {\n",
      "            \"self\": \"https://api.github.com/repos/Poseidon77/config-tests/contents/configs?ref=master\", \n",
      "            \"git\": \"https://api.github.com/repos/Poseidon77/config-tests/git/trees/9d0b42131d083037ab4771cf729d84f61d1f0442\", \n",
      "            \"html\": \"https://github.com/Poseidon77/config-tests/tree/master/configs\"\n",
      "        }, \n",
      "        \"git_url\": \"https://api.github.com/repos/Poseidon77/config-tests/git/trees/9d0b42131d083037ab4771cf729d84f61d1f0442\", \n",
      "        \"path\": \"configs\", \n",
      "        \"type\": \"dir\", \n",
      "        \"size\": 0\n",
      "    }\n",
      "]\n",
      "file\n",
      "dir\n"
     ]
    }
   ],
   "source": [
    "contents_url_base = 'https://api.github.com/repos/Poseidon77/config-tests/contents'\n",
    "r_contents = requests.get(contents_url)\n",
    "\n",
    "print r_contents.status_code\n",
    "print json.dumps(r_contents.json(), indent=4)\n",
    "content_data = r_contents.json()\n",
    "\n",
    "# for each entry in our contents\n",
    "### check if it's a file or directory\n",
    "### if it's a file, PUT into Consul\n",
    "### if it's a directory, go one layer deeper into the directory, and repeat this recursively\n",
    "\n",
    "for entry in content_data:\n",
    "    entry_type = entry['type']\n",
    "    print entry_type\n",
    "    if entry_type = 'dir'\n",
    "\n",
    "#new_contents_url = contents_url_base + "
   ]
  },
  {
   "cell_type": "code",
   "execution_count": null,
   "metadata": {
    "collapsed": true
   },
   "outputs": [],
   "source": [
    "# start of the recursive function\n",
    "\n",
    "def parse_file(entry):\n",
    "    entry_type = entry['type']\n",
    "    print entry_type\n",
    "    print entry['sha']\n",
    "    if entry_type == 'file':\n",
    "        print entry['name']\n",
    "    else:\n",
    "        return parse_file(entry)\n",
    "    "
   ]
  },
  {
   "cell_type": "code",
   "execution_count": 66,
   "metadata": {
    "collapsed": false
   },
   "outputs": [
    {
     "name": "stdout",
     "output_type": "stream",
     "text": [
      "404\n",
      "{\n",
      "    \"documentation_url\": \"https://developer.github.com/v3\", \n",
      "    \"message\": \"Not Found\"\n",
      "}\n"
     ]
    }
   ],
   "source": [
    "#/repos/Poseidon77/config-tests/git/trees/:sha\n",
    "trees_url = 'https://api.github.com/repos/Poseidon77/config-tests/git/trees'\n",
    "r_trees = requests.get(trees_url)\n",
    "\n",
    "print r_trees.status_code\n",
    "print json.dumps(r_trees.json(), indent=4)"
   ]
  },
  {
   "cell_type": "code",
   "execution_count": 62,
   "metadata": {
    "collapsed": false
   },
   "outputs": [
    {
     "name": "stdout",
     "output_type": "stream",
     "text": [
      "200\n",
      "[\n",
      "    {\n",
      "        \"committer\": {\n",
      "            \"following_url\": \"https://api.github.com/users/web-flow/following{/other_user}\", \n",
      "            \"events_url\": \"https://api.github.com/users/web-flow/events{/privacy}\", \n",
      "            \"organizations_url\": \"https://api.github.com/users/web-flow/orgs\", \n",
      "            \"url\": \"https://api.github.com/users/web-flow\", \n",
      "            \"gists_url\": \"https://api.github.com/users/web-flow/gists{/gist_id}\", \n",
      "            \"html_url\": \"https://github.com/web-flow\", \n",
      "            \"subscriptions_url\": \"https://api.github.com/users/web-flow/subscriptions\", \n",
      "            \"avatar_url\": \"https://avatars3.githubusercontent.com/u/19864447?v=4\", \n",
      "            \"repos_url\": \"https://api.github.com/users/web-flow/repos\", \n",
      "            \"received_events_url\": \"https://api.github.com/users/web-flow/received_events\", \n",
      "            \"gravatar_id\": \"\", \n",
      "            \"starred_url\": \"https://api.github.com/users/web-flow/starred{/owner}{/repo}\", \n",
      "            \"site_admin\": false, \n",
      "            \"login\": \"web-flow\", \n",
      "            \"type\": \"User\", \n",
      "            \"id\": 19864447, \n",
      "            \"followers_url\": \"https://api.github.com/users/web-flow/followers\"\n",
      "        }, \n",
      "        \"author\": {\n",
      "            \"following_url\": \"https://api.github.com/users/Poseidon77/following{/other_user}\", \n",
      "            \"events_url\": \"https://api.github.com/users/Poseidon77/events{/privacy}\", \n",
      "            \"organizations_url\": \"https://api.github.com/users/Poseidon77/orgs\", \n",
      "            \"url\": \"https://api.github.com/users/Poseidon77\", \n",
      "            \"gists_url\": \"https://api.github.com/users/Poseidon77/gists{/gist_id}\", \n",
      "            \"html_url\": \"https://github.com/Poseidon77\", \n",
      "            \"subscriptions_url\": \"https://api.github.com/users/Poseidon77/subscriptions\", \n",
      "            \"avatar_url\": \"https://avatars1.githubusercontent.com/u/12437306?v=4\", \n",
      "            \"repos_url\": \"https://api.github.com/users/Poseidon77/repos\", \n",
      "            \"received_events_url\": \"https://api.github.com/users/Poseidon77/received_events\", \n",
      "            \"gravatar_id\": \"\", \n",
      "            \"starred_url\": \"https://api.github.com/users/Poseidon77/starred{/owner}{/repo}\", \n",
      "            \"site_admin\": false, \n",
      "            \"login\": \"Poseidon77\", \n",
      "            \"type\": \"User\", \n",
      "            \"id\": 12437306, \n",
      "            \"followers_url\": \"https://api.github.com/users/Poseidon77/followers\"\n",
      "        }, \n",
      "        \"url\": \"https://api.github.com/repos/Poseidon77/config-tests/commits/a4d364228ebe60c0af0d51d37eba952a3cbcc947\", \n",
      "        \"comments_url\": \"https://api.github.com/repos/Poseidon77/config-tests/commits/a4d364228ebe60c0af0d51d37eba952a3cbcc947/comments\", \n",
      "        \"html_url\": \"https://github.com/Poseidon77/config-tests/commit/a4d364228ebe60c0af0d51d37eba952a3cbcc947\", \n",
      "        \"sha\": \"a4d364228ebe60c0af0d51d37eba952a3cbcc947\", \n",
      "        \"parents\": [\n",
      "            {\n",
      "                \"url\": \"https://api.github.com/repos/Poseidon77/config-tests/commits/e8dbd71f3ca7f2cf77fdfe4a981b9f392f4bbc14\", \n",
      "                \"sha\": \"e8dbd71f3ca7f2cf77fdfe4a981b9f392f4bbc14\", \n",
      "                \"html_url\": \"https://github.com/Poseidon77/config-tests/commit/e8dbd71f3ca7f2cf77fdfe4a981b9f392f4bbc14\"\n",
      "            }\n",
      "        ], \n",
      "        \"commit\": {\n",
      "            \"committer\": {\n",
      "                \"date\": \"2018-03-13T02:11:26Z\", \n",
      "                \"name\": \"GitHub\", \n",
      "                \"email\": \"noreply@github.com\"\n",
      "            }, \n",
      "            \"author\": {\n",
      "                \"date\": \"2018-03-13T02:11:26Z\", \n",
      "                \"name\": \"Poseidon77\", \n",
      "                \"email\": \"poseidon77@users.noreply.github.com\"\n",
      "            }, \n",
      "            \"url\": \"https://api.github.com/repos/Poseidon77/config-tests/git/commits/a4d364228ebe60c0af0d51d37eba952a3cbcc947\", \n",
      "            \"tree\": {\n",
      "                \"url\": \"https://api.github.com/repos/Poseidon77/config-tests/git/trees/a1c30deecabcb9d1983c78d72f1b4fcd4e164c6b\", \n",
      "                \"sha\": \"a1c30deecabcb9d1983c78d72f1b4fcd4e164c6b\"\n",
      "            }, \n",
      "            \"comment_count\": 0, \n",
      "            \"verification\": {\n",
      "                \"reason\": \"valid\", \n",
      "                \"verified\": true, \n",
      "                \"payload\": \"tree a1c30deecabcb9d1983c78d72f1b4fcd4e164c6b\\nparent e8dbd71f3ca7f2cf77fdfe4a981b9f392f4bbc14\\nauthor Poseidon77 <Poseidon77@users.noreply.github.com> 1520907086 -0400\\ncommitter GitHub <noreply@github.com> 1520907086 -0400\\n\\nCreate text.test.l\", \n",
      "                \"signature\": \"-----BEGIN PGP SIGNATURE-----\\n\\nwsBcBAABCAAQBQJapzNOCRBK7hj4Ov3rIwAAdHIIADCKhB7UCLZ4rZ1DOqMEmNS0\\nTd9Q9YoUMmsXSQH1qmjfyGS1NuV52ZUOm9BbKfAumQDiPvas4iTlgajtO6bIrn5X\\nL52fJoHMJ+Sg+cN33VxCHAH0q7J38tQDaHenSOY8G6dfIYpwmGwKShYKKoIvqrCG\\nhKsuH746zTi5am+9IVf2orNLYbUP80DB9CxkuQJEw3/ODTeuoUfUj7ums6elAX9J\\nLKDHCwRdtXH9A+VFloFrpk/Vo7pmHf6kOQawfGLAUOGklsyPtwZRmLDFZyhgNqkL\\nm11uxyU8NfXZ4H7HYczZp37EjnLxMUAGSrNvtd5kIhA6KuVp6S7+MudMEY1JxZM=\\n=srjq\\n-----END PGP SIGNATURE-----\\n\"\n",
      "            }, \n",
      "            \"message\": \"Create text.test.l\"\n",
      "        }\n",
      "    }\n",
      "]\n",
      "------------------------------------------------------\n",
      "[u'committer', u'author', u'url', u'comments_url', u'html_url', u'sha', u'parents', u'commit']\n",
      "------------------------------------------------------\n",
      "{u'committer': {u'following_url': u'https://api.github.com/users/web-flow/following{/other_user}', u'events_url': u'https://api.github.com/users/web-flow/events{/privacy}', u'organizations_url': u'https://api.github.com/users/web-flow/orgs', u'url': u'https://api.github.com/users/web-flow', u'gists_url': u'https://api.github.com/users/web-flow/gists{/gist_id}', u'html_url': u'https://github.com/web-flow', u'subscriptions_url': u'https://api.github.com/users/web-flow/subscriptions', u'avatar_url': u'https://avatars3.githubusercontent.com/u/19864447?v=4', u'repos_url': u'https://api.github.com/users/web-flow/repos', u'received_events_url': u'https://api.github.com/users/web-flow/received_events', u'gravatar_id': u'', u'starred_url': u'https://api.github.com/users/web-flow/starred{/owner}{/repo}', u'site_admin': False, u'login': u'web-flow', u'type': u'User', u'id': 19864447, u'followers_url': u'https://api.github.com/users/web-flow/followers'}, u'author': {u'following_url': u'https://api.github.com/users/Poseidon77/following{/other_user}', u'events_url': u'https://api.github.com/users/Poseidon77/events{/privacy}', u'organizations_url': u'https://api.github.com/users/Poseidon77/orgs', u'url': u'https://api.github.com/users/Poseidon77', u'gists_url': u'https://api.github.com/users/Poseidon77/gists{/gist_id}', u'html_url': u'https://github.com/Poseidon77', u'subscriptions_url': u'https://api.github.com/users/Poseidon77/subscriptions', u'avatar_url': u'https://avatars1.githubusercontent.com/u/12437306?v=4', u'repos_url': u'https://api.github.com/users/Poseidon77/repos', u'received_events_url': u'https://api.github.com/users/Poseidon77/received_events', u'gravatar_id': u'', u'starred_url': u'https://api.github.com/users/Poseidon77/starred{/owner}{/repo}', u'site_admin': False, u'login': u'Poseidon77', u'type': u'User', u'id': 12437306, u'followers_url': u'https://api.github.com/users/Poseidon77/followers'}, u'url': u'https://api.github.com/repos/Poseidon77/config-tests/commits/a4d364228ebe60c0af0d51d37eba952a3cbcc947', u'comments_url': u'https://api.github.com/repos/Poseidon77/config-tests/commits/a4d364228ebe60c0af0d51d37eba952a3cbcc947/comments', u'html_url': u'https://github.com/Poseidon77/config-tests/commit/a4d364228ebe60c0af0d51d37eba952a3cbcc947', u'sha': u'a4d364228ebe60c0af0d51d37eba952a3cbcc947', u'parents': [{u'url': u'https://api.github.com/repos/Poseidon77/config-tests/commits/e8dbd71f3ca7f2cf77fdfe4a981b9f392f4bbc14', u'sha': u'e8dbd71f3ca7f2cf77fdfe4a981b9f392f4bbc14', u'html_url': u'https://github.com/Poseidon77/config-tests/commit/e8dbd71f3ca7f2cf77fdfe4a981b9f392f4bbc14'}], u'commit': {u'committer': {u'date': u'2018-03-13T02:11:26Z', u'name': u'GitHub', u'email': u'noreply@github.com'}, u'author': {u'date': u'2018-03-13T02:11:26Z', u'name': u'Poseidon77', u'email': u'poseidon77@users.noreply.github.com'}, u'url': u'https://api.github.com/repos/Poseidon77/config-tests/git/commits/a4d364228ebe60c0af0d51d37eba952a3cbcc947', u'tree': {u'url': u'https://api.github.com/repos/Poseidon77/config-tests/git/trees/a1c30deecabcb9d1983c78d72f1b4fcd4e164c6b', u'sha': u'a1c30deecabcb9d1983c78d72f1b4fcd4e164c6b'}, u'comment_count': 0, u'verification': {u'reason': u'valid', u'verified': True, u'payload': u'tree a1c30deecabcb9d1983c78d72f1b4fcd4e164c6b\\nparent e8dbd71f3ca7f2cf77fdfe4a981b9f392f4bbc14\\nauthor Poseidon77 <Poseidon77@users.noreply.github.com> 1520907086 -0400\\ncommitter GitHub <noreply@github.com> 1520907086 -0400\\n\\nCreate text.test.l', u'signature': u'-----BEGIN PGP SIGNATURE-----\\n\\nwsBcBAABCAAQBQJapzNOCRBK7hj4Ov3rIwAAdHIIADCKhB7UCLZ4rZ1DOqMEmNS0\\nTd9Q9YoUMmsXSQH1qmjfyGS1NuV52ZUOm9BbKfAumQDiPvas4iTlgajtO6bIrn5X\\nL52fJoHMJ+Sg+cN33VxCHAH0q7J38tQDaHenSOY8G6dfIYpwmGwKShYKKoIvqrCG\\nhKsuH746zTi5am+9IVf2orNLYbUP80DB9CxkuQJEw3/ODTeuoUfUj7ums6elAX9J\\nLKDHCwRdtXH9A+VFloFrpk/Vo7pmHf6kOQawfGLAUOGklsyPtwZRmLDFZyhgNqkL\\nm11uxyU8NfXZ4H7HYczZp37EjnLxMUAGSrNvtd5kIhA6KuVp6S7+MudMEY1JxZM=\\n=srjq\\n-----END PGP SIGNATURE-----\\n'}, u'message': u'Create text.test.l'}}\n",
      "------------------------------------------------------\n",
      "{u'following_url': u'https://api.github.com/users/web-flow/following{/other_user}', u'events_url': u'https://api.github.com/users/web-flow/events{/privacy}', u'organizations_url': u'https://api.github.com/users/web-flow/orgs', u'url': u'https://api.github.com/users/web-flow', u'gists_url': u'https://api.github.com/users/web-flow/gists{/gist_id}', u'html_url': u'https://github.com/web-flow', u'subscriptions_url': u'https://api.github.com/users/web-flow/subscriptions', u'avatar_url': u'https://avatars3.githubusercontent.com/u/19864447?v=4', u'repos_url': u'https://api.github.com/users/web-flow/repos', u'received_events_url': u'https://api.github.com/users/web-flow/received_events', u'gravatar_id': u'', u'starred_url': u'https://api.github.com/users/web-flow/starred{/owner}{/repo}', u'site_admin': False, u'login': u'web-flow', u'type': u'User', u'id': 19864447, u'followers_url': u'https://api.github.com/users/web-flow/followers'}\n",
      "data has a length of: 1\n"
     ]
    }
   ],
   "source": [
    "\n",
    "# the page=1 and per_page=1 returns to us only the most recent commit\n",
    "url2 = 'https://api.github.com/repos/Poseidon77/config-tests/commits?page=1&per_page=1'\n",
    "#url = 'https://api.github.com/repos/willg29'\n",
    "url = 'https://api.github.com/repos/doitcwd-nwhack/sailsweb/commits/731f1a20993f474ab496c4ec506ae63030d1aa41'\n",
    "\n",
    "r = requests.get(url2)\n",
    "\n",
    "print r.status_code\n",
    "print json.dumps(r.json(), indent=4)\n",
    "data = r.json()\n",
    "#print type(data[0][\"commiter\"])\n",
    "print ('------------------------------------------------------')\n",
    "print (data[0].keys())\n",
    "print ('------------------------------------------------------')\n",
    "print (data[0])\n",
    "print ('------------------------------------------------------')\n",
    "print (data[0]['committer'])\n",
    "print \"data has a length of: \" + str(len(data))"
   ]
  },
  {
   "cell_type": "code",
   "execution_count": 8,
   "metadata": {
    "collapsed": false
   },
   "outputs": [
    {
     "data": {
      "text/plain": [
       "u'{\"message\":\"Not Found\",\"documentation_url\":\"https://developer.github.com/v3\"}'"
      ]
     },
     "execution_count": 8,
     "metadata": {},
     "output_type": "execute_result"
    }
   ],
   "source": []
  },
  {
   "cell_type": "code",
   "execution_count": null,
   "metadata": {
    "collapsed": true
   },
   "outputs": [],
   "source": []
  }
 ],
 "metadata": {
  "kernelspec": {
   "display_name": "Python 2",
   "language": "python",
   "name": "python2"
  },
  "language_info": {
   "codemirror_mode": {
    "name": "ipython",
    "version": 2
   },
   "file_extension": ".py",
   "mimetype": "text/x-python",
   "name": "python",
   "nbconvert_exporter": "python",
   "pygments_lexer": "ipython2",
   "version": "2.7.11"
  }
 },
 "nbformat": 4,
 "nbformat_minor": 0
}
